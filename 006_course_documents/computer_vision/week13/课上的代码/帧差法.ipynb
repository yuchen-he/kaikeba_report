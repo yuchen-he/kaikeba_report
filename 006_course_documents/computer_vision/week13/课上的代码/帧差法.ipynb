{
 "cells": [
  {
   "cell_type": "code",
   "execution_count": 13,
   "metadata": {},
   "outputs": [],
   "source": [
    "import cv2\n",
    "import numpy as np\n",
    "from copy import deepcopy?"
   ]
  },
  {
   "cell_type": "code",
   "execution_count": null,
   "metadata": {},
   "outputs": [],
   "source": [
    "cap = cv2.VideoCapture('Pedestrian overpass.mp4')\n",
    "\n",
    "frameNum = 0\n",
    "while (cap.isOpened()):\n",
    "    ret, frame = cap.read()\n",
    "    frameNum += 1\n",
    "    if ret==True:\n",
    "        tempframe = deepcopy(frame.copy())\n",
    "        if (frameNum==1):\n",
    "            previousframe = cv2.cvtColor(tempframe,cv2.COLOR_BGR2GRAY)\n",
    "        if (frameNum>2):\n",
    "            currentframe = cv2.cvtColor(tempframe,cv2.COLOR_BGR2GRAY)\n",
    "            currentframe = cv2.absdiff(currentframe, previousframe)\n",
    "            \n",
    "            ret, threshold_frame = cv2.threshold(currentframe,40,255,cv2.THRESH_BINARY)\n",
    "            gaussian_frame = cv2.GaussianBlur(threshold_frame,(3,3),0)\n",
    "            \n",
    "            contours,_ = cv2.findContours(gaussian_frame.copy(),cv2.RETR_EXTERNAL,cv2.CHAIN_APPROX_SIMPLE)\n",
    "            for c in contours:\n",
    "                if cv2.contourArea(c)<300:\n",
    "                    continue\n",
    "                (x,y,w,h) = cv2.boundingRect(c)\n",
    "                cv2.rectangle(frame, (x,y), (x+w,y+h), (255,255,0),2)\n",
    "            \n",
    "            cv2.imshow('frame',frame)\n",
    "            cv2.imshow('ABSDIFF',currentframe)\n",
    "            cv2.imshow('BINARY',threshold_frame)\n",
    "            cv2.imshow('Gaussian',gaussian_frame)\n",
    "            if cv2.waitKey(33) & 0xFF==ord('q'):\n",
    "                break\n",
    "        previousframe = cv2.cvtColor(tempframe,cv2.COLOR_BGR2GRAY)\n",
    "cap.release()\n",
    "cv2.destroyAllWindows()"
   ]
  },
  {
   "cell_type": "code",
   "execution_count": null,
   "metadata": {},
   "outputs": [],
   "source": []
  }
 ],
 "metadata": {
  "kernelspec": {
   "display_name": "Python 3",
   "language": "python",
   "name": "python3"
  },
  "language_info": {
   "codemirror_mode": {
    "name": "ipython",
    "version": 3
   },
   "file_extension": ".py",
   "mimetype": "text/x-python",
   "name": "python",
   "nbconvert_exporter": "python",
   "pygments_lexer": "ipython3",
   "version": "3.7.4"
  }
 },
 "nbformat": 4,
 "nbformat_minor": 2
}
