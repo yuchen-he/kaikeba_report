{
 "cells": [
  {
   "cell_type": "code",
   "execution_count": 1,
   "metadata": {},
   "outputs": [],
   "source": [
    "# 针对课上的代码，重写为ipynb文件，方便大家交互查看\n",
    "import sys\n",
    "import cv2\n",
    "from random import randint"
   ]
  },
  {
   "cell_type": "code",
   "execution_count": 2,
   "metadata": {},
   "outputs": [],
   "source": [
    "# 跟踪器的选择列表\n",
    "trackerTypes = ['BOOSTING', 'MIL', 'KCF','TLD', 'MEDIANFLOW', 'GOTURN', 'MOSSE', 'CSRT']\n",
    "\n",
    "def createTrackerByName(trackerName):\n",
    "    if trackerName in trackerTypes:\n",
    "        tracker = eval(f'cv2.Tracker{trackerName}_create()')\n",
    "    else:\n",
    "        tracker = None\n",
    "        print(f'Incorrect tracker name!\\nAvailable trackers are:\\n{[t for t in trackerTypes]}')\n",
    "    return tracker# 就是这行在课上没加，导致没有返回跟踪器，程序直接跳出\n",
    "\n",
    "# OPENCV 最大的缺点就是基本没有报错信息，或者报错信息很难看懂，这说明作者团队异常处理的不是很好"
   ]
  },
  {
   "cell_type": "code",
   "execution_count": 3,
   "metadata": {},
   "outputs": [
    {
     "name": "stdout",
     "output_type": "stream",
     "text": [
      "Press q to quit selecting boxes and start tracking\n",
      "Press any other key to select next object\n",
      "Selected bounding boxes [(1243, 54, 95, 238)]\n"
     ]
    }
   ],
   "source": [
    "# 载入视频\n",
    "videoPath = \"siderwalk.mp4\"\n",
    "\n",
    "cap = cv2.VideoCapture(videoPath)\n",
    "\n",
    "# 读取首帧\n",
    "success, frame = cap.read()\n",
    "if not success:\n",
    "    print('Failed to read video')\n",
    "\n",
    "# 读取首帧中的检测框\n",
    "bboxes = []\n",
    "colors = [] \n",
    "\n",
    "# 回车确认单次框，按q确认全部完成，进入跟踪阶段\n",
    "while True:\n",
    "\n",
    "    bbox = cv2.selectROI('MultiTracker', frame)\n",
    "    bboxes.append(bbox)\n",
    "    colors.append((randint(0, 255), randint(0, 255), randint(0, 255)))\n",
    "    print(\"Press q to quit selecting boxes and start tracking\")\n",
    "    print(\"Press any other key to select next object\")\n",
    "    k = cv2.waitKey(0) & 0xFF\n",
    "    if k == 113:  # ord('q')==113\n",
    "        break\n",
    "\n",
    "# 选择tracker类型\n",
    "trackerType = \"KCF\"   \n",
    "\n",
    "# 创建multi tracker\n",
    "multiTracker = cv2.MultiTracker_create()\n",
    "\n",
    "\n",
    "for bbox in bboxes:\n",
    "    multiTracker.add(createTrackerByName(trackerType), frame, bbox)\n",
    "\n",
    "# 开始处理视频\n",
    "while cap.isOpened():\n",
    "    success, frame = cap.read()\n",
    "    if not success:\n",
    "        break\n",
    "  \n",
    " # 更新每一帧的跟踪结果\n",
    "    success, boxes = multiTracker.update(frame)\n",
    "\n",
    "    # 绘制矩形框\n",
    "    for i, newbox in enumerate(boxes):\n",
    "        p1 = (int(newbox[0]), int(newbox[1]))\n",
    "        p2 = (int(newbox[0] + newbox[2]), int(newbox[1] + newbox[3]))\n",
    "        cv2.rectangle(frame, p1, p2, [255,0,255], 2, 1)\n",
    "\n",
    "    # 刷新显示结果\n",
    "    cv2.imshow('MultiTracker', frame)\n",
    "\n",
    "\n",
    "    # 中途退出Esc\n",
    "    if cv2.waitKey(1) & 0xFF == 27:  # Esc pressed\n",
    "        break"
   ]
  },
  {
   "cell_type": "code",
   "execution_count": null,
   "metadata": {},
   "outputs": [],
   "source": []
  }
 ],
 "metadata": {
  "kernelspec": {
   "display_name": "Python 3",
   "language": "python",
   "name": "python3"
  },
  "language_info": {
   "codemirror_mode": {
    "name": "ipython",
    "version": 3
   },
   "file_extension": ".py",
   "mimetype": "text/x-python",
   "name": "python",
   "nbconvert_exporter": "python",
   "pygments_lexer": "ipython3",
   "version": "3.7.4"
  }
 },
 "nbformat": 4,
 "nbformat_minor": 2
}
