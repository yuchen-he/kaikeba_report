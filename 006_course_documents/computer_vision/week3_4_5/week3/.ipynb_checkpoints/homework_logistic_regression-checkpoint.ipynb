{
 "cells": [
  {
   "cell_type": "markdown",
   "metadata": {},
   "source": [
    "# Linear Regression by using numpy method"
   ]
  },
  {
   "cell_type": "code",
   "execution_count": 73,
   "metadata": {},
   "outputs": [],
   "source": [
    "import numpy as np\n",
    "from matplotlib.pyplot import ion\n",
    "import matplotlib.pyplot as plt\n",
    "import random\n",
    "import time\n",
    "import math"
   ]
  },
  {
   "cell_type": "code",
   "execution_count": 61,
   "metadata": {},
   "outputs": [],
   "source": [
    "def sigmoid(x):\n",
    "    return 1.0/(1+np.exp(-x))"
   ]
  },
  {
   "cell_type": "code",
   "execution_count": 62,
   "metadata": {},
   "outputs": [],
   "source": [
    "# inference\n",
    "def inference(w, point_batch_xy):\n",
    "    # point_batch_xy.shape: (batch_size, 2)\n",
    "    # (batch_size, 3) * (3, 1) -> (batch_size, 1)\n",
    "    \n",
    "    ones_padding = np.ones((len(point_batch_xy), 1))\n",
    "    point_batch_pad = np.hstack((ones_padding, point_batch_xy))   # (batch_size, 3)  [1, x ,y]\n",
    "    \n",
    "    label_batch_pred = np.dot(point_batch_pad, w)       # (batch_size, 1)\n",
    "    label_batch_pred_onehot = sigmoid(label_batch_pred)\n",
    "    return label_batch_pred_onehot, point_batch_pad"
   ]
  },
  {
   "cell_type": "code",
   "execution_count": 63,
   "metadata": {},
   "outputs": [],
   "source": [
    "# Calculate gradients for a batch_data\n",
    "def gradient(label_batch_pred_onehot, point_batch, point_batch_pad):\n",
    "    gt = point_batch[:, -1:]\n",
    "    prediction = label_batch_pred_onehot\n",
    "    error = gt - prediction\n",
    "    #error = -gt*np.log10(prediction)-(1-gt)*np.log10(1-prediction)\n",
    "\n",
    "    # (3, batch_size) * (batch_size, 1) -> (3, 1) for [w0,w1,w2]\n",
    "    dw =  np.dot(point_batch_pad.T, error)\n",
    "\n",
    "    return dw"
   ]
  },
  {
   "cell_type": "code",
   "execution_count": 64,
   "metadata": {},
   "outputs": [],
   "source": [
    "## Use numpy to calculate gradient for a batch in one time\n",
    "def cal_step_gradient(point_batch, w, batch_size, lr):\n",
    "    \n",
    "    dw = []\n",
    "    \n",
    "    label_batch_pred_onehot, point_batch_pad = inference(w, point_batch[:, 0:2])\n",
    "    \n",
    "    # TODO: The method of calculating gradient is different\n",
    "    dw = gradient(label_batch_pred_onehot, point_batch, point_batch_pad)\n",
    "    \n",
    "    w -= lr*dw/batch_size\n",
    "    \n",
    "    return w"
   ]
  },
  {
   "cell_type": "code",
   "execution_count": 65,
   "metadata": {},
   "outputs": [],
   "source": [
    "def gen_data():\n",
    "    # generate data (x1,y1)~(xk,yk) whose lable is 0\n",
    "    # generate data (xl,yl)~(xn,yn) whose lable is 1\n",
    "    # randomly put these 2 groups of data to be seperate properly\n",
    "    w = random.randint(0,10) + random.random()\n",
    "    b = random.randint(0, 5) + random.random()\n",
    "    print('w_gt:{0},b_gt:{1}'.format(w,b))\n",
    "    \n",
    "    x_list = np.random.randint(0, 100, 200) * np.random.rand(200)\n",
    "    \n",
    "    x_list_0 = np.random.choice(x_list,100) \n",
    "    y_list_0 = w*x_list_0 + b + np.random.randint(-20, 500, 100) #* random.random()\n",
    "    label_0 = np.zeros(100)\n",
    "    \n",
    "    x_list_1 = np.random.choice(x_list,100) \n",
    "    y_list_1 = w*x_list_1 + b - np.random.randint(-20, 500, 100) #* random.random()\n",
    "    label_1 = np.ones(100)\n",
    "    \n",
    "    data_0 = np.vstack((x_list_0, y_list_0, label_0)).T\n",
    "    data_1 = np.vstack((x_list_1, y_list_1, label_1)).T\n",
    "\n",
    "    return data_0, data_1"
   ]
  },
  {
   "cell_type": "code",
   "execution_count": 66,
   "metadata": {},
   "outputs": [],
   "source": [
    "def eval_loss(w,b,x_list,y_list):\n",
    "    loss_list  = 0.5 * (w * x_list + b - y_list) **2\n",
    "    avg_loss = np.sum(loss_list)\n",
    "    avg_loss /= len(x_list)\n",
    "    return avg_loss"
   ]
  },
  {
   "cell_type": "code",
   "execution_count": 67,
   "metadata": {},
   "outputs": [],
   "source": [
    "def train_batch(data_points, batch_size, lr, num_epoch):\n",
    "    '''\n",
    "    data_points.shape: (200, 3) x,y,label.  label is binary\n",
    "    '''\n",
    "    w = np.zeros((3,1))\n",
    "    \n",
    "    for i in range(num_epoch):\n",
    "        batch_idxs = np.random.choice(len(data_points), batch_size)\n",
    "        point_batch = data_points[batch_idxs]   # no problem?\n",
    "        w = cal_step_gradient(point_batch, w, batch_size, lr)\n",
    "#         print('w:{0}'.format(w))\n",
    "#         print(\"loss: {}\".format(eval_loss(w, b, point_batch, label_batch)))\n",
    "        \n",
    "        # Show present model animation\n",
    "#         plt.pause(0.1)\n",
    "#         try:\n",
    "#             ax.lines.remove(lines[0])\n",
    "#         except Exception:\n",
    "#             pass\n",
    "#         lines = ax.plot(x_batch, (w*x_batch+b)),'r-',label='Loss={}'.format(eval_loss(w,b,x_list,y_list)),lw=5)\n",
    "#         ax.legend()\n",
    "    print('w:{0}'.format(w))\n",
    "    return w"
   ]
  },
  {
   "cell_type": "code",
   "execution_count": 71,
   "metadata": {},
   "outputs": [
    {
     "name": "stdout",
     "output_type": "stream",
     "text": [
      "w_gt:6.774082113056635,b_gt:5.655495067314309\n",
      "w:[[1.82091265e-02]\n",
      " [9.35517745e-01]\n",
      " [2.60607703e+01]]\n"
     ]
    },
    {
     "name": "stderr",
     "output_type": "stream",
     "text": [
      "/home/j0118570/anaconda3/envs/pytorch/lib/python3.6/site-packages/ipykernel_launcher.py:2: RuntimeWarning: overflow encountered in exp\n",
      "  \n"
     ]
    },
    {
     "data": {
      "image/png": "[encoded data removed]",
      "text/plain": [
       "<Figure size 432x288 with 1 Axes>"
      ]
     },
     "metadata": {
      "needs_background": "light"
     },
     "output_type": "display_data"
    }
   ],
   "source": [
    "data_0, data_1 = gen_data()\n",
    "data_points = np.vstack((data_0, data_1))\n",
    "np.random.shuffle(data_points)\n",
    "\n",
    "fig = plt.figure()\n",
    "ax = fig.add_subplot(1,1,1)\n",
    "ax.scatter(data_0.T[0], data_0.T[1], c='b')\n",
    "ax.scatter(data_1.T[0], data_1.T[1], c='r')\n",
    "plt.ion()\n",
    "\n",
    "# w = train_batch(data_points[:,0:2], data_points[:,-1], 50, 0.001, 100)\n",
    "w = train_batch(data_points, 100, 0.001, 100)\n",
    "# need to delete afterwards\n",
    "ax.plot(data_points[:, 0], (-w[0]-w[1]*data_points[:, 0])/w[2], 'r-', lw=2)\n",
    "plt.ioff()\n",
    "plt.show()"
   ]
  },
  {
   "cell_type": "code",
   "execution_count": null,
   "metadata": {},
   "outputs": [],
   "source": []
  }
 ],
 "metadata": {
  "kernelspec": {
   "display_name": "Python 3",
   "language": "python",
   "name": "python3"
  },
  "language_info": {
   "codemirror_mode": {
    "name": "ipython",
    "version": 3
   },
   "file_extension": ".py",
   "mimetype": "text/x-python",
   "name": "python",
   "nbconvert_exporter": "python",
   "pygments_lexer": "ipython3",
   "version": "3.6.9"
  }
 },
 "nbformat": 4,
 "nbformat_minor": 2
}
