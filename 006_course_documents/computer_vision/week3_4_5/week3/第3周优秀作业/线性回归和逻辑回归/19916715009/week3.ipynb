{
 "cells": [
  {
   "cell_type": "markdown",
   "metadata": {},
   "source": [
    "# 机器学习\n"
   ]
  },
  {
   "cell_type": "markdown",
   "metadata": {},
   "source": [
    "## 定义\n",
    "随着经验$E$的增长，程序对于任务$T$在度量标准$P$表现良好的准确，我们称之为程序对任务$T$进行了学习。<br>\n",
    "> <font color='red'>这也是机器学习目前的困境所在，只能针对单方面的事物进行学习，还不会变通</font>"
   ]
  },
  {
   "cell_type": "markdown",
   "metadata": {},
   "source": [
    "## 类别\n",
    "- 回归与分类\n",
    "\n",
    "\n",
    "1. 分类问题：对数据进行类别划分\n",
    "2. 回归问题：对数据进行预测评估\n",
    "> <font color='red'>两者的区别在于结果空间的划分，分类结果严格独立，属于不同的空间，但是回归问题具有同一的空间量度 <br> \n",
    "不过，通过对回归空间的严格区间划分，也可以进行分类问题的求解\n",
    "</font>"
   ]
  },
  {
   "cell_type": "markdown",
   "metadata": {},
   "source": [
    "- 监督和非监督\n",
    "\n",
    "\n",
    "1. 监督学习：依据既定标准量度进行学习\n",
    "2. 非监督学习：程序自行判断，自行学习并对新数据进行学习成果的展开，不存在人为指定既定标准\n",
    "> <font color='red'>监督学习是对人既定的知识、判断的扩充，非监督学习，完全是程序自我学习的结果。</font>"
   ]
  },
  {
   "cell_type": "markdown",
   "metadata": {},
   "source": [
    "# 梯度下降\n"
   ]
  },
  {
   "cell_type": "markdown",
   "metadata": {},
   "source": [
    "沿着梯度反方向进行移动，最终到达最低点。<br>\n",
    "> <font color='red'>针对凸函数</font>\n",
    "\n",
    "对于$f(x)$，梯度下降可以这样进行表示\n",
    "$$\n",
    "\\Large x_{next} = x - \\eta f'(x)\n",
    "$$\n",
    "\n",
    "其中$\\Large \\eta$表示学习率，正是梯度的有效移动率。\n",
    "> <font color='red'>虽然直接求导就是极值，但是对于导数不存在、不可导等一系列问题，梯度下降不存在此类问题，方便普适</font>"
   ]
  },
  {
   "cell_type": "markdown",
   "metadata": {},
   "source": [
    "# 归一化\n",
    "机器对于数据大小敏感，但是对于含义不敏感。<br>\n",
    "$100 > 1$,即时$100nm < 1km$，所以，为了减少误差，一般都需要进行数据归一化处理。\n",
    "\n",
    "## 放缩\n",
    "$$\n",
    "\\Large \\hat x = \\frac{x - x_{min}}{x_{max} - x_{min}}\n",
    "$$\n",
    "这种办法，会按照自身的尺度对数据进行放缩，变换为$\\hat x \\in [0, 1]$的数据。"
   ]
  },
  {
   "cell_type": "markdown",
   "metadata": {},
   "source": [
    "## 偏移\n",
    "$$\n",
    "\\Large \\hat x = \\frac{x - \\mu}{\\sigma}\n",
    "$$"
   ]
  },
  {
   "cell_type": "markdown",
   "metadata": {},
   "source": [
    "- $\\Large \\mu$: 样本均值\n",
    "- $\\Large \\sigma$: 样本标准差\n",
    "$$\n",
    "\\Large \n",
    "\\left\\{\n",
    "\\begin{matrix}\n",
    "\\mu =& \\frac{\\sum_i^n x_i}{n} \\\\\n",
    "\\sigma =& \\sqrt{\\frac{\\sum_i^n (x_i - \\mu)^2}{n}}\n",
    "\\end{matrix}\n",
    "\\right.\n",
    "$$"
   ]
  },
  {
   "cell_type": "markdown",
   "metadata": {},
   "source": [
    "虽然没有放缩直观，但是得到的数据样本保持同原样本数据的同分布，对后续计算有极大便利，而且从内在保留数据规律。"
   ]
  },
  {
   "cell_type": "markdown",
   "metadata": {},
   "source": [
    "# 高斯函数\n",
    "\n",
    "$$\n",
    "\\Large f(x) = \\frac{1}{\\sqrt{2\\pi} \\sigma}\\exp\\left(- \\frac{(x - \\mu)^2}{2 \\sigma}\\right)\n",
    "$$"
   ]
  },
  {
   "cell_type": "markdown",
   "metadata": {},
   "source": [
    "# 线性回归推导\n"
   ]
  },
  {
   "cell_type": "markdown",
   "metadata": {},
   "source": [
    "$$\n",
    "{\\Large f(X)} = \\theta_0 + \\theta_1x_1 + \\dots + \\theta_nx_n\n",
    "$$\n",
    "矩阵表示\n",
    "$$\n",
    "\\begin{aligned}\n",
    "{\\Large \\theta} =& \\left[\n",
    "\\begin{matrix}\n",
    "\\theta_n & \\theta_{n-1} & \\dots & \\theta_1 & \\theta_0\n",
    "\\end{matrix}\n",
    "\\right] \\\\\n",
    "{\\Large X} =& \\left[\n",
    "\\begin{matrix}\n",
    "x_n & x_{n-1} & \\dots & x_1 & 1\n",
    "\\end{matrix}\n",
    "\\right] \\\\\n",
    " f(X) =&  \\theta X^T\n",
    "\\end{aligned}\n",
    "$$"
   ]
  },
  {
   "cell_type": "markdown",
   "metadata": {},
   "source": [
    "对于一个已知的函数式而言,$f(x) = \\theta X^T$式没有问题的<br>\n",
    "但是对于一个统计问题，也就是对于$X$全部已知，对$\\theta$一无所知的情况，我们实际求解的应该是$f(\\theta)$"
   ]
  },
  {
   "cell_type": "markdown",
   "metadata": {},
   "source": [
    "## 误差引入\n",
    "对于生活中总是存在误差，所以函数这样来表示比较正确\n",
    "$$\n",
    "\\Large Y = f(X) + \\epsilon \\Rightarrow \\epsilon = Y -f(X)\n",
    "$$"
   ]
  },
  {
   "cell_type": "markdown",
   "metadata": {},
   "source": [
    "一般来说，误差是服从正太分布的\n",
    "$$\n",
    "\\epsilon  = \\frac{1}{\\sqrt{2\\pi} \\sigma}\\exp\\left(- \\frac{(y_i - f(x_i))^2}{2 \\sigma}\\right)\n",
    "$$"
   ]
  },
  {
   "cell_type": "markdown",
   "metadata": {},
   "source": [
    "# 极大似然\n",
    "最经常发生的，概率就是最大的。 <br>\n",
    "举个例子，抛硬币，十次里面有六次朝上，那么反面的概率是多少。<br>\n",
    "假设朝上的概率为$p$，朝下的概率为$q$\n",
    "\n",
    "$$\n",
    "\\begin{aligned}\n",
    "p =& 1 - q \\\\\n",
    "P(6,4) =& p^6q^4 = p^6(1-p)^4 \\\\\n",
    "\\triangledown P(6,4) =& 6p^5(1-p)^4 - 4p^6(1-p)^3 \\\\\n",
    "=& p^5(1-p)^3(6 - 10p) \\\\\n",
    "\\Rightarrow &\\left\\{\n",
    "\\begin{matrix}\n",
    "p_1 =& 0 \\\\\n",
    "p_2 =& 1\\\\\n",
    "p_3 =& \\frac{6}{10} = \\frac{3}{5}\\\\\n",
    "\\end{matrix}\n",
    "\\right.\n",
    "\\end{aligned}\n",
    "$$\n",
    "这样就求解出概率了。"
   ]
  },
  {
   "cell_type": "markdown",
   "metadata": {},
   "source": [
    "$$\n",
    "P(y_i|x_i;\\theta) = \\frac{1}{\\sqrt{2\\pi} \\sigma}\\exp\\left(- \\frac{(y_i - f(x_i))^2}{2 \\sigma^2}\\right)\n",
    "$$"
   ]
  },
  {
   "cell_type": "markdown",
   "metadata": {},
   "source": [
    "$$\n",
    "\\begin{aligned}\n",
    "L(\\theta) =& \\prod P(y|x;\\theta) \\\\\n",
    "=&\\prod_i^m \\frac{1}{\\sqrt{2\\pi} \\sigma}\\exp\\left(- \\frac{(y_i - f(x_i))^2}{2 \\sigma}\\right) \\\\\n",
    "\\end{aligned}\n",
    "$$\n",
    "取对数\n",
    "$$\n",
    "\\begin{aligned}\n",
    "\\log(L(\\theta)) =& \\prod_i^m \\log(\\frac{1}{\\sqrt{2\\pi} \\sigma}\\exp\\left(- \\frac{(y_i - f(x_i))^2}{2 \\sigma}\\right) \\\\\n",
    "=& m\\log\\frac{1}{\\sqrt{2\\pi} \\sigma} - \\frac{1}{\\sigma ^2}\\frac{1}{2}\\sum_i^n (y_i - f(x_i))^2\n",
    "\\end{aligned} \n",
    "$$"
   ]
  },
  {
   "cell_type": "markdown",
   "metadata": {},
   "source": [
    "所以最后实际上是求取$J(\\theta)$的极小值\n",
    "$$\n",
    "J(\\theta) = \\frac{1}{2}\\sum_i^n(y_i - f(x_i))^2 = \\frac{1}{2}(\\theta X^T - Y)^2 = \\frac{1}{2}(\\theta X - Y)^T(\\theta X - Y)\n",
    "$$"
   ]
  },
  {
   "cell_type": "markdown",
   "metadata": {},
   "source": [
    "导数为\n",
    "$$\n",
    "\\begin{aligned}\n",
    "\\triangledown J(\\theta) =& \\triangledown_\\theta\\left(\\frac{1}{2}(\\theta X - Y)^T(\\theta X - Y)\\right) \\\\\n",
    "=& \\triangledown_\\theta\\left(\\frac{1}{2} (\\theta^TX^T - Y)(\\theta X - Y)\\right) \\\\\n",
    "=& \\triangledown_\\theta\\left(\\frac{1}{2}(\\theta^TX^TX\\theta - \\theta^TX^TY - Y^TX\\theta + Y^TY)\\right) \\\\\n",
    "=& \\frac{1}{2}\\left( 2X^TX\\theta - X^TY + (Y^TX)^T\\right) \\\\\n",
    "=& X^TX\\theta - X^TY\n",
    "\\end{aligned}\n",
    "$$"
   ]
  },
  {
   "cell_type": "markdown",
   "metadata": {},
   "source": [
    "令导数为0\n",
    "$$\n",
    "\\begin{aligned}\n",
    "X^TX\\theta - X^TY &=& 0 \\\\\n",
    "\\Rightarrow \\theta &=& (X^TX)^{-1}X^TY\n",
    "\\end{aligned}\n",
    "$$"
   ]
  },
  {
   "cell_type": "markdown",
   "metadata": {},
   "source": [
    "# 逻辑回归\n"
   ]
  },
  {
   "cell_type": "markdown",
   "metadata": {},
   "source": [
    "## sigma\n",
    "$$\n",
    "\\Large g(z) = \\frac{1}{e^{-z} + 1}\n",
    "$$"
   ]
  },
  {
   "cell_type": "code",
   "execution_count": 1,
   "metadata": {},
   "outputs": [
    {
     "data": {
      "image/png": "[encoded data removed]",
      "text/plain": [
       "<Figure size 432x288 with 1 Axes>"
      ]
     },
     "metadata": {
      "needs_background": "light"
     },
     "output_type": "display_data"
    }
   ],
   "source": [
    "import numpy as np\n",
    "import matplotlib.pyplot as plt\n",
    "\n",
    "\n",
    "def sigma(x):\n",
    "    return 1 / (np.power(np.e, -x) + 1)\n",
    "\n",
    "def center(ax):\n",
    "    ax.spines['right'].set_color('none')\n",
    "    ax.spines['top'].set_color('none')\n",
    "    ax.xaxis.set_ticks_position('bottom')\n",
    "    ax.spines['bottom'].set_position(('data',0))\n",
    "    ax.yaxis.set_ticks_position('left')\n",
    "    ax.spines['left'].set_position(('data',0))\n",
    "\n",
    "X = np.linspace(-10, 10, 100)\n",
    "Y = sigma(X)\n",
    "top = np.ones(X.shape)\n",
    "axes = plt.subplot(111)\n",
    "center(axes)\n",
    "plt.plot(X, top, color='red', linestyle=\"--\")\n",
    "plt.plot(X, Y)\n",
    "plt.show()"
   ]
  },
  {
   "cell_type": "markdown",
   "metadata": {},
   "source": [
    "首先经过线性变换得到基础表达式$f(x)$，然后通过$g(z)$函数进行空间映射\n",
    "$$\n",
    "\\begin{aligned}\n",
    "f(x) =& \\theta X^T \\\\\n",
    "g(\\theta, x) =& g(f(x)) =\\frac{1}{e^{-f(x)} + 1}\n",
    "\\end{aligned}\n",
    "$$"
   ]
  },
  {
   "cell_type": "markdown",
   "metadata": {},
   "source": [
    "二分类而言\n",
    "$$\n",
    "\\begin{aligned}\n",
    "\\left\\{\n",
    "\\begin{matrix}\n",
    "true & g(x) \\ge 0.5 \\\\\n",
    "false & g(x) < 0.5\n",
    "\\end{matrix}\n",
    "\\right.\n",
    "\\end{aligned}\n",
    "$$"
   ]
  },
  {
   "cell_type": "markdown",
   "metadata": {},
   "source": [
    "为了统一两次的定义，我们这样来表示概率\n",
    "$$\n",
    "\\Large P(y|x;\\theta) = g(\\theta, x)^{y} (1-g(\\theta ,x))^{1-y}\n",
    "$$"
   ]
  },
  {
   "cell_type": "markdown",
   "metadata": {},
   "source": [
    "# 极大似然\n",
    "$$\n",
    "L(\\theta) = \\prod_i^n g(\\theta, x_i)^{y_i} (1-g(\\theta ,x_i))^{1-y_i}\n",
    "$$"
   ]
  },
  {
   "cell_type": "markdown",
   "metadata": {},
   "source": [
    "# 取对数\n",
    "$$\n",
    "\\log(L(\\theta)) = \\sum_i^n\\left(y_i\\log g(\\theta,x_i) + (1 - y_i)\\log (1 - g(\\theta, x_i)))\\right)\n",
    "$$\n",
    "最后求解得到和线性回归最小而乘法相同。"
   ]
  },
  {
   "cell_type": "markdown",
   "metadata": {},
   "source": [
    "# 损失函数\n",
    "我们所说的梯度下降，就是使用在损失函数上面的，损失最小的，也就最大可能了。<br>\n",
    "也就是我们通过最大似然函数得到的等值中的负项。<br>\n",
    "理论上通过梯度下降可以使下降最快，最好，但是工业上面可以遍历，手工试一下。"
   ]
  },
  {
   "cell_type": "code",
   "execution_count": 22,
   "metadata": {},
   "outputs": [
    {
     "data": {
      "image/png": "[encoded data removed]",
      "text/plain": [
       "<Figure size 432x288 with 1 Axes>"
      ]
     },
     "metadata": {
      "needs_background": "light"
     },
     "output_type": "display_data"
    }
   ],
   "source": [
    "def offset(_Y):\n",
    "    return _Y + np.random.randint(-9, 8 ,size=_Y.shape)\n",
    "\n",
    "def calc(_X, _W):\n",
    "    return _W[0] * _X + _W[1]\n",
    "\n",
    "X = np.linspace(0, 50, 100)\n",
    "W = np.array([2, 5])\n",
    "\n",
    "    \n",
    "base_Y = calc(X, W)\n",
    "off_Y = offset(base_Y)\n",
    "\n",
    "\n",
    "def draw_scatter():\n",
    "    plt.scatter(X, off_Y, color='blue')\n",
    "    \n",
    "def draw_line(_W, x_min=0, x_max=55, y_min=0, y_max=120):\n",
    "    plt.xlim(x_min, x_max)\n",
    "    plt.ylim(y_min, y_max)\n",
    "    _X = np.linspace(x_min, x_max, 100)\n",
    "    _Y = calc(_X, _W)\n",
    "    plt.plot(_X, _Y, color='red')\n",
    "    \n",
    "draw_line(W)\n",
    "draw_scatter()"
   ]
  },
  {
   "cell_type": "code",
   "execution_count": 23,
   "metadata": {},
   "outputs": [
    {
     "data": {
      "image/png": "[encoded data removed]",
      "text/plain": [
       "<Figure size 432x288 with 2 Axes>"
      ]
     },
     "metadata": {
      "needs_background": "light"
     },
     "output_type": "display_data"
    }
   ],
   "source": [
    "from IPython import display\n",
    "import math\n",
    "\n",
    "def grad(_X, _W, _Y):\n",
    "    return (calc(_X, _W) - _Y) * _W[0]\n",
    "\n",
    "def cost(_X, _W, _Y):\n",
    "    return 0.5 * (calc(_X, _W) - _Y) ** 2\n",
    "\n",
    "def update_W(_W, _cost, rate=np.array([0.003, 0.002])):\n",
    "    _W -= rate * _cost\n",
    "    return _W\n",
    "\n",
    "guess_W = np.array([1.0, 1.0])\n",
    "loss = []\n",
    "for x, y in zip(X, off_Y):\n",
    "    _cost = grad(x, guess_W, y)\n",
    "    guess_W = update_W(guess_W, _cost)\n",
    "    loss.append(cost(x, guess_W, y))\n",
    "    plt.subplot(121)\n",
    "    draw_line(guess_W)\n",
    "    draw_scatter()\n",
    "    plt.subplot(122)\n",
    "    plt.plot(np.arange(len(loss)), loss, color='red', label='loss')\n",
    "    plt.legend()\n",
    "    plt.show()\n",
    "    display.clear_output(wait=True)"
   ]
  },
  {
   "cell_type": "code",
   "execution_count": 4,
   "metadata": {},
   "outputs": [
    {
     "data": {
      "text/plain": [
       "array([2.08900161, 1.72600107])"
      ]
     },
     "execution_count": 4,
     "metadata": {},
     "output_type": "execute_result"
    }
   ],
   "source": [
    "guess_W"
   ]
  },
  {
   "cell_type": "markdown",
   "metadata": {},
   "source": [
    "# 批量梯度\n"
   ]
  },
  {
   "cell_type": "code",
   "execution_count": 5,
   "metadata": {},
   "outputs": [
    {
     "data": {
      "image/png": "[encoded data removed]",
      "text/plain": [
       "<Figure size 432x288 with 1 Axes>"
      ]
     },
     "metadata": {
      "needs_background": "light"
     },
     "output_type": "display_data"
    }
   ],
   "source": [
    "times = 100\n",
    "batch = 10\n",
    "length = len(X)\n",
    "guess_W = np.array([1.0, 1.0])\n",
    "for _ in range(times):\n",
    "    batch_index = np.random.choice(length, batch)\n",
    "    _cost = 0\n",
    "    for index in batch_index:\n",
    "        _cost += grad(X[index], guess_W, off_Y[index])\n",
    "    guess_W = update_W(guess_W, _cost / batch)\n",
    "    draw_scatter()\n",
    "    draw_line(guess_W)\n",
    "    plt.show()\n",
    "    display.clear_output(wait=True)"
   ]
  },
  {
   "cell_type": "code",
   "execution_count": 25,
   "metadata": {},
   "outputs": [],
   "source": [
    "def cost(_X, _W, _Y):\n",
    "    return 0.5 * (np.dot(_W, _X) - _Y) ** 2\n",
    "\n",
    "def grad(_X, _W, _Y):\n",
    "    return (np.dot(_W, _X) - _Y) * _W[0]\n",
    "\n",
    "def update_W(_W, _G, learn_rate=np.array([0.001,0.002])):\n",
    "    return _W - (_G * learn_rate)"
   ]
  },
  {
   "cell_type": "code",
   "execution_count": 26,
   "metadata": {},
   "outputs": [],
   "source": [
    "new_X = np.array([X, np.ones(X.shape)])"
   ]
  },
  {
   "cell_type": "code",
   "execution_count": 27,
   "metadata": {},
   "outputs": [],
   "source": [
    "guess_W = np.array([1.0,1.0])"
   ]
  },
  {
   "cell_type": "code",
   "execution_count": 29,
   "metadata": {},
   "outputs": [],
   "source": [
    "def train(batch_size, _X, _Y, times):\n",
    "    _,length = _X.shape\n",
    "    guess_W = np.array([1.0, 1.0])\n",
    "    loss = []\n",
    "    for cursor in range(times):\n",
    "        index = np.random.choice(length, batch_size)\n",
    "        x_data = _X[:,index]\n",
    "        y_data = _Y[index]\n",
    "        _G = grad(x_data, guess_W, y_data).mean()\n",
    "        loss.append(cost(_X, guess_W, _Y).mean())\n",
    "        guess_W = update_W(guess_W, _G)\n",
    "        plt.subplot(121)\n",
    "        draw_scatter()\n",
    "        draw_line(guess_W)\n",
    "        plt.subplot(122)\n",
    "        plt.plot(np.arange(len(loss)), loss, color='red', label='loss')\n",
    "        plt.legend()\n",
    "        plt.show()\n",
    "        display.clear_output(wait=True)"
   ]
  },
  {
   "cell_type": "code",
   "execution_count": 30,
   "metadata": {},
   "outputs": [
    {
     "data": {
      "image/png": "[encoded data removed]",
      "text/plain": [
       "<Figure size 432x288 with 2 Axes>"
      ]
     },
     "metadata": {
      "needs_background": "light"
     },
     "output_type": "display_data"
    }
   ],
   "source": [
    "train(10, new_X, off_Y, 200)"
   ]
  },
  {
   "cell_type": "markdown",
   "metadata": {},
   "source": [
    "# 逻辑回归"
   ]
  },
  {
   "cell_type": "code",
   "execution_count": 34,
   "metadata": {},
   "outputs": [
    {
     "data": {
      "image/png": "[encoded data removed]",
      "text/plain": [
       "<Figure size 432x288 with 1 Axes>"
      ]
     },
     "metadata": {
      "needs_background": "light"
     },
     "output_type": "display_data"
    }
   ],
   "source": [
    "x_1 = np.linspace(0, 51, 50)\n",
    "x_2 = np.linspace(50, 101, 50)\n",
    "A = np.random.randint(10, 60, x_1.shape)\n",
    "B = np.random.randint(40, 90, x_2.shape)\n",
    "def show_point():\n",
    "    plt.scatter(x_1, A, color='blue')\n",
    "    plt.scatter(x_2, B, color='green')\n",
    "    \n",
    "show_point()"
   ]
  },
  {
   "cell_type": "code",
   "execution_count": 35,
   "metadata": {},
   "outputs": [],
   "source": [
    "blue_X = np.array([x_1, A])\n",
    "green_X = np.array([x_2, B])\n",
    "X = np.c_[blue_X, green_X]\n",
    "X = np.r_[X, np.ones((1, X.shape[1]))]"
   ]
  },
  {
   "cell_type": "code",
   "execution_count": 36,
   "metadata": {},
   "outputs": [],
   "source": [
    "Y = np.ones(X.shape[1])\n",
    "Y[0:50] = 0"
   ]
  },
  {
   "cell_type": "code",
   "execution_count": 37,
   "metadata": {},
   "outputs": [
    {
     "data": {
      "image/png": "[encoded data removed]",
      "text/plain": [
       "<Figure size 432x288 with 1 Axes>"
      ]
     },
     "metadata": {
      "needs_background": "light"
     },
     "output_type": "display_data"
    }
   ],
   "source": [
    "def f(_X, _W):\n",
    "    return np.dot(_W, _X)\n",
    "\n",
    "def g(_Z):\n",
    "    return 1 / (1 + np.exp(- _Z))\n",
    "\n",
    "def h(_X, _W):\n",
    "    f_x = f(_X, _W)\n",
    "    return g(f_x)\n",
    "\n",
    "def G(_W, _X, _Y):\n",
    "    h_x = h(_X, _W)\n",
    "    return (h_x - _Y) * _X\n",
    "\n",
    "def update_W(_W, _G, learn_rate=np.array([0.001, 0.002, 0.003])):\n",
    "    return _W - (learn_rate * _G)\n",
    "\n",
    "\n",
    "def cost(_W, _X, _Y):\n",
    "    h_x = h(_X, _W)\n",
    "    return _Y * np.log(h_x) + (1 - _Y) * np.log(1 - h_x)\n",
    "    \n",
    "_x = np.linspace(-10, 10, 100)\n",
    "_y = g(_x)\n",
    "\n",
    "def sigmod():\n",
    "    fig, ax = plt.subplots()\n",
    "    ax.spines['right'].set_color('none')\n",
    "    ax.spines['bottom'].set_color('none')\n",
    "    ax.xaxis.set_ticks_position('top')\n",
    "    ax.yaxis.set_ticks_position('left')\n",
    "    ax.spines['left'].set_position(('data',0))\n",
    "    ax.spines['top'].set_position(('data',0))\n",
    "    plt.plot(_x, _y)\n",
    "sigmod()"
   ]
  },
  {
   "cell_type": "code",
   "execution_count": 38,
   "metadata": {},
   "outputs": [],
   "source": [
    "def train(_X, _Y, batch, times):\n",
    "    guess_W = np.array([1.0, 2.0, 3.0])\n",
    "    _, length = _X.shape\n",
    "\n",
    "    loss = []\n",
    "    _g = []\n",
    "    _back = []\n",
    "    for iter_index in range(times):\n",
    "        data_index = np.random.choice(length, batch)\n",
    "        x_data = _X[:, data_index]\n",
    "        y_data = _Y[data_index]\n",
    "        _G = G(guess_W, _X, _Y).mean()\n",
    "        _g.append(_G)\n",
    "        guess_W = update_W(guess_W, _G)\n",
    "        loss.append(cost(guess_W, _X, _Y).mean())\n",
    "        display.clear_output(wait=True)\n",
    "        plt.subplot(121)\n",
    "        plt.plot(np.arange(len(loss)), loss, color='red', label='loss')\n",
    "        plt.legend()\n",
    "        plt.subplot(122)\n",
    "        plt.plot(np.arange(len(_g)), _g, color='red', label='grad')\n",
    "        plt.legend()\n",
    "        _back.append(h(x_data, guess_W).mean())\n",
    "        plt.show()\n",
    "    return guess_W\n"
   ]
  },
  {
   "cell_type": "code",
   "execution_count": 39,
   "metadata": {},
   "outputs": [
    {
     "data": {
      "image/png": "[encoded data removed]",
      "text/plain": [
       "<Figure size 432x288 with 2 Axes>"
      ]
     },
     "metadata": {
      "needs_background": "light"
     },
     "output_type": "display_data"
    }
   ],
   "source": [
    "guess_W = train(X, Y, 5, 200)"
   ]
  },
  {
   "cell_type": "code",
   "execution_count": 45,
   "metadata": {},
   "outputs": [],
   "source": [
    "def which_type(x, y, threshold=0.67):\n",
    "    X = np.array([x, y, 1]).reshape((3, -1))\n",
    "    f_x = f(X, guess_W)\n",
    "    h_x = g(f_x)\n",
    "    color = 'blue' if h_x < threshold else 'green' \n",
    "    plt.scatter(f_x, h_x, color=color)\n",
    "    \n",
    "        "
   ]
  },
  {
   "cell_type": "code",
   "execution_count": 47,
   "metadata": {},
   "outputs": [
    {
     "data": {
      "image/png": "[encoded data removed]",
      "text/plain": [
       "<Figure size 432x288 with 1 Axes>"
      ]
     },
     "metadata": {
      "needs_background": "light"
     },
     "output_type": "display_data"
    }
   ],
   "source": [
    "\n",
    "sigmod()\n",
    "_, length = green_X.shape\n",
    "for index in range(length):\n",
    "    item = blue_X[:, index]\n",
    "    temp = which_type(item[0], item[1])\n",
    "\n",
    "for index in range(length):\n",
    "    item = green_X[:, index]\n",
    "    temp = which_type(item[0], item[1])\n"
   ]
  },
  {
   "cell_type": "code",
   "execution_count": null,
   "metadata": {},
   "outputs": [],
   "source": []
  },
  {
   "cell_type": "code",
   "execution_count": null,
   "metadata": {},
   "outputs": [],
   "source": []
  }
 ],
 "metadata": {
  "kernelspec": {
   "display_name": "Python 3",
   "language": "python",
   "name": "python3"
  },
  "language_info": {
   "codemirror_mode": {
    "name": "ipython",
    "version": 3
   },
   "file_extension": ".py",
   "mimetype": "text/x-python",
   "name": "python",
   "nbconvert_exporter": "python",
   "pygments_lexer": "ipython3",
   "version": "3.7.3"
  }
 },
 "nbformat": 4,
 "nbformat_minor": 2
}
