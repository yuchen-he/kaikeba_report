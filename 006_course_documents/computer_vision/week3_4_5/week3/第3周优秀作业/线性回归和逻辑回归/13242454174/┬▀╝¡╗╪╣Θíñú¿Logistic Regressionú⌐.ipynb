{
 "cells": [
  {
   "cell_type": "code",
   "execution_count": 11,
   "metadata": {
    "collapsed": true
   },
   "outputs": [],
   "source": [
    "from math import exp\n",
    "import matplotlib.pyplot as plt\n",
    "import numpy as np\n",
    "from sklearn.datasets.samples_generator import make_blobs"
   ]
  },
  {
   "cell_type": "code",
   "execution_count": 12,
   "metadata": {
    "collapsed": true
   },
   "outputs": [],
   "source": [
    "def sigmoid(num):\n",
    "    '''  \n",
    "    :param num: 待计算的x\n",
    "    :return: sigmoid之后的数值\n",
    "    '''\n",
    "    if type(num) == int or type(num) == float:        \n",
    "        return 1.0 / (1 + exp(-1 * num))\n",
    "    else:\n",
    "        raise ValueError\n",
    "# print( 'only int or float data can compute sigmoid')"
   ]
  },
  {
   "cell_type": "code",
   "execution_count": 13,
   "metadata": {
    "collapsed": true
   },
   "outputs": [],
   "source": [
    "class logistic():\n",
    "    def __init__(self, x, y):\n",
    "        if type(x) == type(y) == list:\n",
    "            self.x = np.array(x)\n",
    "            self.y = np.array(y)\n",
    "        elif type(x) == type(y) == np.ndarray:\n",
    "            self.x = x\n",
    "            self.y = y\n",
    "        else:\n",
    "            raise ValueError\n",
    "# ,( 'input data error')\n",
    " \n",
    "    def sigmoid(self, x):\n",
    "        \n",
    "        '''\n",
    "        :param x: 输入向量\n",
    "        :return: 对输入向量整体进行simgoid计算后的向量结果\n",
    "        '''\n",
    "        s = np.frompyfunc(lambda x: sigmoid(x), 1, 1)\n",
    "        return s(x)\n",
    " \n",
    "    def train_with_punish(self, alpha, errors, punish=0.0001):\n",
    "        '''\n",
    " \n",
    "        :param alpha: alpha为学习速率\n",
    "        :param errors: 误差小于多少时停止迭代的阈值\n",
    "        :param punish: 惩罚系数\n",
    "        :param times: 最大迭代次数\n",
    "        :return:\n",
    "        '''\n",
    "        self.punish = punish\n",
    "        dimension = self.x.shape[1]\n",
    "        self.theta = np.random.random(dimension)\n",
    "        compute_error = 100000000\n",
    "        times = 0\n",
    "        while compute_error > errors:            \n",
    "            res = np.dot(self.x, self.theta)\n",
    "            delta = self.sigmoid(res) - self.y\n",
    "            self.theta = self.theta - alpha * np.dot(self.x.T, delta) - punish * self.theta # 带惩罚的梯度下降方法\n",
    "            compute_error = np.sum(delta)\n",
    "            times += 1\n",
    " \n",
    "    def predict(self, x):        \n",
    "        '''\n",
    "        :param x: 给入新的未标注的向量\n",
    "        :return: 按照计算出的参数返回判定的类别\n",
    "        '''\n",
    "        x = np.array(x)\n",
    "        if self.sigmoid(np.dot(x, self.theta)) > 0.5:\n",
    "            return 1\n",
    "        else:\n",
    "            return 0"
   ]
  },
  {
   "cell_type": "code",
   "execution_count": 14,
   "metadata": {
    "collapsed": true
   },
   "outputs": [],
   "source": [
    "def test1():        \n",
    "        '''\n",
    "        用来进行测试和画图，展现效果\n",
    "        :return:\n",
    "        '''\n",
    "        x, y = make_blobs(n_samples=200, centers=2, n_features=2, random_state=0, center_box=(10, 20))\n",
    "        x1 = []\n",
    "        y1 = []\n",
    "        x2 = []\n",
    "        y2 = []\n",
    "        for i in range(len(y)):\n",
    "            if y[i] == 0:\n",
    "                x1.append(x[i][0])\n",
    "                y1.append(x[i][1])\n",
    "            elif y[i] == 1:\n",
    "                x2.append(x[i][0])\n",
    "                y2.append(x[i][1])\n",
    "        # 以上均为处理数据，生成出两类数据\n",
    "        p = logistic(x, y)\n",
    "        p.train_with_punish(alpha=0.00001, errors=0.005, punish=0.01) # 步长是0.00001，最大允许误差是0.005，惩罚系数是0.01\n",
    "        x_test = np.arange(10, 20, 0.01)\n",
    "        y_test = (-1 * p.theta[0] / p.theta[1]) * x_test\n",
    "        plt.plot(x_test, y_test, c='g', label='logistic_line')\n",
    "        plt.scatter(x1, y1, c='r', label='positive')\n",
    "        plt.scatter(x2, y2, c='b', label='negative')\n",
    "        plt.legend(loc=2)\n",
    "        plt.title('punish value = ' + p.punish.__str__())\n",
    "        plt.show()"
   ]
  },
  {
   "cell_type": "code",
   "execution_count": 15,
   "metadata": {},
   "outputs": [
    {
     "data": {
      "image/png": "[encoded data removed]",
      "text/plain": [
       "<matplotlib.figure.Figure at 0x1ab7271b390>"
      ]
     },
     "metadata": {},
     "output_type": "display_data"
    }
   ],
   "source": [
    "if __name__ == '__main__':\n",
    "    test1()"
   ]
  },
  {
   "cell_type": "code",
   "execution_count": null,
   "metadata": {
    "collapsed": true
   },
   "outputs": [],
   "source": []
  }
 ],
 "metadata": {
  "kernelspec": {
   "display_name": "Python 3",
   "language": "python",
   "name": "python3"
  },
  "language_info": {
   "codemirror_mode": {
    "name": "ipython",
    "version": 3
   },
   "file_extension": ".py",
   "mimetype": "text/x-python",
   "name": "python",
   "nbconvert_exporter": "python",
   "pygments_lexer": "ipython3",
   "version": "3.5.3"
  }
 },
 "nbformat": 4,
 "nbformat_minor": 2
}
