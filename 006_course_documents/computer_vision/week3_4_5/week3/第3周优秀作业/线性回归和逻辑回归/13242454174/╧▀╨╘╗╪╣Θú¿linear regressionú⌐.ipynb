{
 "cells": [
  {
   "cell_type": "code",
   "execution_count": 1,
   "metadata": {
    "collapsed": true
   },
   "outputs": [],
   "source": [
    "from sklearn.datasets import make_regression\n",
    "import numpy as np, matplotlib.pyplot as plt"
   ]
  },
  {
   "cell_type": "markdown",
   "metadata": {},
   "source": [
    "# 创建数据"
   ]
  },
  {
   "cell_type": "code",
   "execution_count": 2,
   "metadata": {
    "collapsed": true
   },
   "outputs": [],
   "source": [
    "# X为样本特征，Y为样本输出，coef为回归系数\n",
    "# make_regression()产生一个随机回归问题\n",
    "\n",
    "bias = 10.\n",
    "X, Y, coef = make_regression(n_features=1, noise=9, bias=bias, coef=True)\n",
    "X = X.reshape(-1)"
   ]
  },
  {
   "cell_type": "code",
   "execution_count": 3,
   "metadata": {},
   "outputs": [
    {
     "name": "stdout",
     "output_type": "stream",
     "text": [
      "step150 loss: 9738.259864051879\n",
      "step151 loss: 2416.0942072307957\n",
      "step152 loss: 649.2484014765361\n",
      "step153 loss: 217.85898815306132\n",
      "step154 loss: 111.47819307030316\n",
      "step155 loss: 85.08442178737354\n",
      "step156 loss: 78.54946259062214\n",
      "step157 loss: 76.96322009101564\n",
      "step158 loss: 76.60154373252365\n",
      "step159 loss: 76.53366301342481\n",
      "coef=: 95.89500597859065 bias=: 10.0 w=: 95.64977543063813 b=: 8.515242607601616 loss=: 76.53006319161784\n"
     ]
    },
    {
     "data": {
      "image/png": "[encoded data removed]",
      "text/plain": [
       "<matplotlib.figure.Figure at 0x1cdee6482e8>"
      ]
     },
     "metadata": {},
     "output_type": "display_data"
    }
   ],
   "source": [
    "# \"\"\"损失值\"\"\"\n",
    "# zip()该函数返回一个以元组为元素的列表，其中第 i 个元组包含每个参数序列的第 i 个元素\n",
    "plt.ion()\n",
    "loss = lambda w, b: np.mean([(y - (w * x + b)) ** 2 for x, y in zip(X, Y)])\n",
    "\n",
    "\"\"\"梯度下降\"\"\"\n",
    "def gradient_descent(w, b, lr):\n",
    "    for x, y in zip(X, Y):\n",
    "        w -= lr * (((w * x) + b) - y) * x\n",
    "        b -= lr * (((w * x) + b) - y)\n",
    "    return w, b\n",
    "\n",
    "\"\"\"运行\"\"\"\n",
    "w, b = .0, .0\n",
    "for i in range(150, 160):\n",
    "    print('step%d loss:'  %i, loss(w, b))\n",
    "    w, b = gradient_descent(w, b, 1 / i)  # 渐减的学习率\n",
    "print('coef=:',coef, 'bias=:',bias, 'w=:',w,'b=:', b, 'loss=:',loss(w, b))\n",
    "\n",
    "\"\"\"可视化\"\"\"\n",
    "# plt.scatter()函数用于生成一个scatter散点图。\n",
    "plt.ion()\n",
    "plt.title('linear regression ')\n",
    "plt.text(-2, 120, \"Red line is real linear equation \\n,w={0} \\n,b={1}\".format(w,b), color=\"b\")\n",
    "plt.scatter(X, Y, c='r', alpha=0.5,marker='x')\n",
    "plt.plot(X, w * X + b,label = 'linear regresion')\n",
    "plt.legend(loc = 'lower right')\n",
    "plt.pause(0.1)"
   ]
  },
  {
   "cell_type": "code",
   "execution_count": null,
   "metadata": {
    "collapsed": true
   },
   "outputs": [],
   "source": []
  }
 ],
 "metadata": {
  "kernelspec": {
   "display_name": "Python 3",
   "language": "python",
   "name": "python3"
  },
  "language_info": {
   "codemirror_mode": {
    "name": "ipython",
    "version": 3
   },
   "file_extension": ".py",
   "mimetype": "text/x-python",
   "name": "python",
   "nbconvert_exporter": "python",
   "pygments_lexer": "ipython3",
   "version": "3.5.3"
  }
 },
 "nbformat": 4,
 "nbformat_minor": 2
}
