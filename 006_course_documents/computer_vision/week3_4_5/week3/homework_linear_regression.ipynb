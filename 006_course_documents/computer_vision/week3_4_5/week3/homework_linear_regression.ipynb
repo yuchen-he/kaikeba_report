{
 "cells": [
  {
   "cell_type": "markdown",
   "metadata": {},
   "source": [
    "# Linear Regression by using numpy method"
   ]
  },
  {
   "cell_type": "code",
   "execution_count": 126,
   "metadata": {},
   "outputs": [],
   "source": [
    "import numpy as np\n",
    "from matplotlib.pyplot import ion\n",
    "import matplotlib.pyplot as plt\n",
    "import random\n",
    "import time"
   ]
  },
  {
   "cell_type": "code",
   "execution_count": 134,
   "metadata": {},
   "outputs": [],
   "source": [
    "# inference\n",
    "def inference(w,b,x_batch):\n",
    "    # Be careful about the shape when doing matrix calculation\n",
    "    y_batch_pred = w * x_batch + b\n",
    "    return y_batch_pred"
   ]
  },
  {
   "cell_type": "code",
   "execution_count": 147,
   "metadata": {},
   "outputs": [],
   "source": [
    "# Calculate gradients for a batch_data\n",
    "def gradient(y_batch_pred, y_batch_gt, x_batch):\n",
    "    diff = y_batch_pred - y_batch_gt\n",
    "    dw_list = diff * x_batch\n",
    "    db_list = diff\n",
    "    \n",
    "    #Calculate the sum of diff_list\n",
    "    dw = np.sum(dw_list)\n",
    "    db = np.sum(db_list)\n",
    "    return dw, db"
   ]
  },
  {
   "cell_type": "code",
   "execution_count": 129,
   "metadata": {},
   "outputs": [],
   "source": [
    "## Use numpy to calculate gradient for a batch in one time\n",
    "def cal_step_gradient(x_batch, y_batch_gt, w, b ,lr):\n",
    "    dw = 0\n",
    "    db = 0\n",
    "    \n",
    "    y_batch_pred = inference(w, b, x_batch)\n",
    "    dw, db = gradient(y_batch_pred, y_batch_gt, x_batch)\n",
    "    \n",
    "    w -= lr*dw/len(x_batch)\n",
    "    b -= lr*db/len(x_batch)\n",
    "    \n",
    "    return w,b"
   ]
  },
  {
   "cell_type": "code",
   "execution_count": 190,
   "metadata": {},
   "outputs": [],
   "source": [
    "def gen_data():\n",
    "    w = random.randint(0,10) + random.random()\n",
    "    b = random.randint(0, 5) + random.random()\n",
    "    print('w_gt:{0},b_gt:{1}'.format(w,b))\n",
    "    \n",
    "    x_list = np.random.randint(0, 100, 100) * np.random.rand(100)\n",
    "    y_list = w * x_list + b + np.random.rand(100)*np.random.randint(-1, 100, 100)\n",
    "\n",
    "    return x_list, y_list"
   ]
  },
  {
   "cell_type": "code",
   "execution_count": 191,
   "metadata": {},
   "outputs": [],
   "source": [
    "def eval_loss(w,b,x_list,y_list):\n",
    "    loss_list  = 0.5 * (w * x_list + b - y_list) **2\n",
    "    avg_loss = np.sum(loss_list)\n",
    "    avg_loss /= len(x_list)\n",
    "    return avg_loss"
   ]
  },
  {
   "cell_type": "code",
   "execution_count": 196,
   "metadata": {},
   "outputs": [],
   "source": [
    "def train_batch(x_list, y_list, batch_size, lr, num_epoch):\n",
    "    w = 0\n",
    "    b = 0\n",
    "    \n",
    "    for i in range(num_epoch):\n",
    "        batch_idxs = np.random.choice(len(x_list), batch_size)\n",
    "        x_batch    = x_list[batch_idxs]\n",
    "        y_batch_gt = y_list[batch_idxs]\n",
    "        w, b = cal_step_gradient(x_batch, y_batch_gt, w, b ,lr)\n",
    "        print('w:{0},b:{1}'.format(w,b))\n",
    "        print(\"loss: {}\".format(eval_loss(w,b,x_list,y_list)))\n",
    "        \n",
    "        # Show line\n",
    "        plt.pause(0.1)\n",
    "        try:\n",
    "            ax.lines.remove(lines[0])\n",
    "        except Exception:\n",
    "            pass\n",
    "        lines = ax.plot(x_batch, inference(w, b, x_batch),'r-',label='Loss={}'.format(eval_loss(w,b,x_list,y_list)),lw=5)\n",
    "        ax.legend()\n",
    "    print('w:{0},b:{1}'.format(w,b))\n",
    "    return w, b"
   ]
  },
  {
   "cell_type": "code",
   "execution_count": 199,
   "metadata": {},
   "outputs": [
    {
     "name": "stdout",
     "output_type": "stream",
     "text": [
      "w_gt:7.008489002678652,b_gt:3.9617580599103204\n",
      "loss: 390.0374352521549\n"
     ]
    },
    {
     "data": {
      "image/png": "[encoded data removed]",
      "text/plain": [
       "<Figure size 432x288 with 1 Axes>"
      ]
     },
     "metadata": {
      "needs_background": "light"
     },
     "output_type": "display_data"
    },
    {
     "name": "stdout",
     "output_type": "stream",
     "text": [
      "loss: 382.44376224191984\n",
      "loss: 384.63297936567784\n",
      "loss: 400.0621009602144\n",
      "loss: 387.5254672539961\n",
      "loss: 389.1350828756976\n",
      "loss: 380.4452916141993\n",
      "loss: 383.2159518689038\n",
      "loss: 380.82679587828346\n",
      "loss: 383.61589239918794\n",
      "loss: 385.09996093929703\n",
      "loss: 399.5715321566729\n",
      "loss: 386.9211050269378\n",
      "loss: 381.23936878306\n",
      "loss: 381.52628090946246\n",
      "loss: 381.00952899212257\n",
      "loss: 407.6441217409828\n",
      "loss: 400.97565911970486\n",
      "loss: 431.37389042845183\n",
      "loss: 379.89158948553757\n",
      "loss: 381.57696662497705\n",
      "loss: 390.59804685290976\n",
      "loss: 378.42680181203133\n",
      "loss: 382.86852793407184\n",
      "loss: 385.60180696934316\n",
      "loss: 382.2136696296023\n",
      "loss: 378.6259921113662\n",
      "loss: 378.100336918952\n",
      "loss: 382.2783765907563\n",
      "loss: 377.41749242750046\n",
      "loss: 377.2708856860903\n",
      "loss: 379.80582393805236\n",
      "loss: 378.53385153963455\n",
      "loss: 385.61992550717645\n",
      "loss: 377.76974341341753\n",
      "loss: 377.265631026366\n",
      "loss: 381.9618350342336\n",
      "loss: 395.34911784239637\n",
      "loss: 378.07263476431694\n",
      "loss: 385.6549726665212\n",
      "loss: 413.9537027526751\n",
      "loss: 378.3194237681899\n",
      "loss: 404.5890000525636\n",
      "loss: 385.0825654227338\n",
      "loss: 391.6330399025935\n",
      "loss: 377.99380970682125\n",
      "loss: 383.7276685972116\n",
      "loss: 375.7824469784415\n",
      "loss: 375.17497178456273\n",
      "loss: 376.70657395565837\n",
      "loss: 374.5624144103118\n",
      "loss: 379.0586102870641\n",
      "loss: 411.11971390387987\n",
      "loss: 377.01181388649377\n",
      "loss: 377.51290755774625\n",
      "loss: 374.42004399287356\n",
      "loss: 383.7539141087751\n",
      "loss: 386.4109282060747\n",
      "loss: 373.80051881126934\n",
      "loss: 373.4812801815176\n",
      "loss: 373.51215005114386\n",
      "loss: 381.57252598146164\n",
      "loss: 378.06801401770133\n",
      "loss: 375.6696899636317\n",
      "loss: 385.1960004586077\n",
      "loss: 379.455038412056\n",
      "loss: 379.7529156277685\n",
      "loss: 377.9019290875074\n",
      "loss: 374.6238304510496\n",
      "loss: 409.10272743693565\n",
      "loss: 380.82333886249677\n",
      "loss: 445.4394896769091\n",
      "loss: 372.4076612962285\n",
      "loss: 402.6901133856048\n",
      "loss: 379.97770929583703\n",
      "loss: 371.6170127154638\n",
      "loss: 371.5508279973907\n",
      "loss: 389.2907703339256\n",
      "loss: 371.8772674338759\n",
      "loss: 373.68689350492474\n",
      "loss: 371.3199056802292\n",
      "loss: 387.66866176556067\n",
      "loss: 371.9021718333318\n",
      "loss: 380.9073999868297\n",
      "loss: 381.8270820889836\n",
      "loss: 377.8095686341092\n",
      "loss: 370.24308424317235\n",
      "loss: 372.72237148022447\n",
      "loss: 370.87414607221314\n",
      "loss: 377.55457741602777\n",
      "loss: 369.79141503467616\n",
      "loss: 385.98407714281615\n",
      "loss: 369.63702965365263\n",
      "loss: 369.34915850649026\n",
      "loss: 375.4601929561544\n",
      "loss: 369.9717882196029\n",
      "loss: 369.0525291716956\n",
      "loss: 379.04596487110325\n",
      "loss: 376.9287308251896\n",
      "loss: 381.19845428829683\n",
      "w:7.43898696935454,b:1.3118985952804318\n"
     ]
    }
   ],
   "source": [
    "x_list, y_list = gen_data()\n",
    "fig = plt.figure()\n",
    "ax = fig.add_subplot(1,1,1)\n",
    "ax.scatter(x_list, y_list)\n",
    "plt.ion()\n",
    "\n",
    "w, b = train_batch(x_list, y_list, 50, 0.001, 100)\n",
    "plt.ioff()\n",
    "plt.show()"
   ]
  },
  {
   "cell_type": "code",
   "execution_count": null,
   "metadata": {},
   "outputs": [],
   "source": []
  }
 ],
 "metadata": {
  "kernelspec": {
   "display_name": "Python 3",
   "language": "python",
   "name": "python3"
  },
  "language_info": {
   "codemirror_mode": {
    "name": "ipython",
    "version": 3
   },
   "file_extension": ".py",
   "mimetype": "text/x-python",
   "name": "python",
   "nbconvert_exporter": "python",
   "pygments_lexer": "ipython3",
   "version": "3.6.9"
  }
 },
 "nbformat": 4,
 "nbformat_minor": 2
}
