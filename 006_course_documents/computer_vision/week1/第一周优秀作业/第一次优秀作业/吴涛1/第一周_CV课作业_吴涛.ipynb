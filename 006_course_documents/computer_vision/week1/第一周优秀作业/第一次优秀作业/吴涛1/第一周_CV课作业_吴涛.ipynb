{
 "cells": [
  {
   "cell_type": "markdown",
   "metadata": {},
   "source": [
    "![](https://img.kaikeba.com/web/kkb_index/img_index_logo.png)"
   ]
  },
  {
   "cell_type": "markdown",
   "metadata": {},
   "source": [
    "# Lesson-01 Assignment"
   ]
  },
  {
   "cell_type": "markdown",
   "metadata": {},
   "source": [
    "   各位同学大家好，欢迎各位开始学习我们的人工智能课程。这门课程假设大家不具备机器学习和人工智能的知识，但是希望大家具备初级的Python编程能力。根据往期同学的实际反馈，我们课程的完结之后 能力能够超过80%的计算机人工智能/深度学习方向的硕士生的能力。"
   ]
  },
  {
   "cell_type": "markdown",
   "metadata": {},
   "source": [
    "## 本次作业的内容"
   ]
  },
  {
   "cell_type": "markdown",
   "metadata": {},
   "source": [
    "### 1. Recode all examples;"
   ]
  },
  {
   "cell_type": "markdown",
   "metadata": {},
   "source": [
    "### 2. Please answer some questions about our course. We do appreciate your help."
   ]
  },
  {
   "cell_type": "markdown",
   "metadata": {},
   "source": [
    "   2.1  What do you want to get in this course? "
   ]
  },
  {
   "cell_type": "markdown",
   "metadata": {},
   "source": [
    "Answer:系统全面的学习到机器学习，深度学习（算法+代码）"
   ]
  },
  {
   "cell_type": "markdown",
   "metadata": {},
   "source": [
    "2.2 What problems do you want to solve? "
   ]
  },
  {
   "cell_type": "markdown",
   "metadata": {},
   "source": [
    "Answer:学到的东西（数学+代码）能让自己有能力进入大厂，复现文献里的算法"
   ]
  },
  {
   "cell_type": "markdown",
   "metadata": {},
   "source": [
    " 2.3 What advantages do you have to accomplish your goal?"
   ]
  },
  {
   "cell_type": "markdown",
   "metadata": {},
   "source": [
    "Answer:之前用tensorflow实现过CNN，用keras实现过RNN，LSTM,GRU等深度学习算法，对反向传播算法，卷积过程等比较熟悉"
   ]
  },
  {
   "cell_type": "markdown",
   "metadata": {},
   "source": [
    " 2.4 What disadvantages you need to overcome to accomplish your goal?"
   ]
  },
  {
   "cell_type": "markdown",
   "metadata": {},
   "source": [
    "Answer:代码能里太差了"
   ]
  },
  {
   "cell_type": "markdown",
   "metadata": {},
   "source": [
    "2.5 How will you plan to study in this course? "
   ]
  },
  {
   "cell_type": "markdown",
   "metadata": {},
   "source": [
    "Answer:1.跟着老师学一遍\n",
    "2.自己多上leetcode撸代码\n",
    "3.上github多看多谢代码\n",
    "4.有能力复现中英文文献"
   ]
  },
  {
   "cell_type": "markdown",
   "metadata": {},
   "source": [
    "### 3. 如何提交"
   ]
  },
  {
   "cell_type": "markdown",
   "metadata": {},
   "source": [
    "答疑平台提交，具体方式，见作业提交指南"
   ]
  },
  {
   "cell_type": "markdown",
   "metadata": {},
   "source": [
    "### 4. 作业截止时间"
   ]
  },
  {
   "cell_type": "markdown",
   "metadata": {},
   "source": [
    "作业能帮助你回顾课堂内容，你又可以通过作业进行代码实操。咱们可要认真、及时的完成作业哦！自布置作业起两周内提交，助教及时批改作业哦～逾期提交不批改。（特殊情况，请找班主任请假。）"
   ]
  },
  {
   "cell_type": "markdown",
   "metadata": {},
   "source": [
    "### 5. 完成以下问答和编程练习"
   ]
  },
  {
   "cell_type": "markdown",
   "metadata": {},
   "source": [
    "5.1  Please combine **image crop, color shift, rotation and perspective transform** together to complete a data augmentation script.\n",
    "   Your code need to be completed in Python/C++ in .py or .cpp file with comments and readme file to indicate how to use."
   ]
  },
  {
   "cell_type": "code",
   "execution_count": 11,
   "metadata": {},
   "outputs": [],
   "source": [
    "import cv2\n",
    "import random\n",
    "import numpy as np\n",
    "import matplotlib.pyplot as plt\n",
    "\n",
    "img_ori = cv2.imread('lenna.jpg', 1)\n",
    "\n",
    "def my_show(img, fig_size=(5, 5)):\n",
    "    plt.figure(figsize=fig_size)\n",
    "    plt.imshow(cv2.cvtCOLOR_BGR2RGB)\n",
    "    plt.show()\n",
    "    \n",
    "def image_crop(img, crop_left, crop_right, crop_down, crop_up): # you code here\n",
    "    img_crop = img[crop_left:crop_right, crop_down:crop_up]\n",
    "    #img_crop = my_show(img)\n",
    "    return img_crop\n",
    "\n",
    "def color_shift(img, cooler_coe): # you code here\n",
    "    B, R, G = cv2.split(img)\n",
    "    b_lim = 255 - cooler_coe\n",
    "    B[B > b_lim] = 255\n",
    "    B[B <= b_lim] = (B[B <= b_lim] + cooler_coe).astype(img.dype)\n",
    "    r_lim = 0 + cooler_coe\n",
    "    R[R < r_lim] = 0\n",
    "    R[R >= r_lim] = (R[R >= r_lim] - cooler_coe).astype(img.dype)\n",
    "    img = cv2.merge(B, G, R)\n",
    "    return img\n",
    "def adjust_gamma(img, gamma=1.0):\n",
    "    invGamma = 1 / gamma\n",
    "    table = []\n",
    "    for i in range(256):\n",
    "        table.append((i / 255.0) ** invGamma)*255\n",
    "    return cv2.LUT(img, table)\n",
    "\n",
    "def rotation(img, center, angle=30, scale=0.8): # you code here\n",
    "    size=(img.shape[1], img.shape[0])\n",
    "    rot_M = cv2.getRotationMatrix2D(center, angle, scale)\n",
    "    return cv2.warpAffine(img, rot_M, size)\n",
    "\n",
    "def perspective_transform(img, pts1, pts2): # you code here\n",
    "    size=(img.shape[1], img.shape[0]) \n",
    "    M_warp = cv2.getPerspectiveTransform(pts1, pts2)\n",
    "    img_warp = cv2.warpPerspective(img, M_warp, size)\n",
    "    return img_warp\n",
    "\n",
    "def photobg_change(photo, ):\n",
    "    photo_hsv = cv2.cvtColor(photo, cv2.COLOR_BGR2HSV)\n",
    "    rows, cols, ch = photo_hsv.shape\n",
    "    #设置蓝色的上线hue限\n",
    "    lower_hue = np.array([78, 43, 46])\n",
    "    upper_hue = np.array([124, 255, 255])\n",
    "    #做掩膜\n",
    "    mask = cv2.inRange(photo_hsv, lower_hue, upper_hue)\n",
    "    #腐蚀膨胀（闭运算，先腐蚀后膨胀）\n",
    "    erode = cv2.erode(mask, None, iterations=2)\n",
    "    dilate = cv2.dilate(erode, None, iterations=1)\n",
    "    #遍历像素点，替换\n",
    "    for i in range(rows):\n",
    "        for j in range(cols):\n",
    "            if dilate[i, j] == 255:\n",
    "                photo[i, j] =[0, 0, 255] #RGB色彩空间，把背景换为红色\n",
    "    plt.figure(figsize=(6, 6))\n",
    "    plt.imshow(cv2.cvtColor(photo, cv2.COLOR_BGR2RGB))\n",
    "    plt.show()\n",
    "    return\n"
   ]
  },
  {
   "cell_type": "markdown",
   "metadata": {},
   "source": [
    "各位同学，你已经把课上关于图像增广实现了！CV的领域很广，咱们需要思考兴趣点在哪～"
   ]
  },
  {
   "cell_type": "markdown",
   "metadata": {},
   "source": [
    "5.2  Do think about your own interests very carefully and choose your topic within 3 weeks."
   ]
  },
  {
   "cell_type": "markdown",
   "metadata": {},
   "source": [
    "Answer:"
   ]
  },
  {
   "cell_type": "markdown",
   "metadata": {},
   "source": [
    "这次的作业就到这里了！祝大家学习进步！"
   ]
  },
  {
   "cell_type": "markdown",
   "metadata": {},
   "source": [
    "![image alt <](http://5b0988e595225.cdn.sohucs.com/images/20190420/1d1070881fd540db817b2a3bdd967f37.gif)"
   ]
  }
 ],
 "metadata": {
  "kernelspec": {
   "display_name": "Python 3",
   "language": "python",
   "name": "python3"
  },
  "language_info": {
   "codemirror_mode": {
    "name": "ipython",
    "version": 3
   },
   "file_extension": ".py",
   "mimetype": "text/x-python",
   "name": "python",
   "nbconvert_exporter": "python",
   "pygments_lexer": "ipython3",
   "version": "3.6.9"
  }
 },
 "nbformat": 4,
 "nbformat_minor": 2
}
